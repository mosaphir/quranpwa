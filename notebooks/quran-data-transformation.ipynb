{
 "cells": [
  {
   "cell_type": "markdown",
   "metadata": {},
   "source": [
    "### .txt to .json"
   ]
  },
  {
   "cell_type": "code",
   "execution_count": 9,
   "metadata": {
    "dotnet_interactive": {
     "language": "csharp"
    },
    "polyglot_notebook": {
     "kernelName": "csharp"
    }
   },
   "outputs": [],
   "source": [
    "using System.IO;\n",
    "using System.Text.Json;\n",
    "using System.Text.Encodings.Web;\n",
    "using System.Text.Unicode;\n",
    "\n",
    "var filePath = @\"C:\\Users\\Faruque\\source\\repos\\quranpwa\\quranpwa\\src\\assets\\quran-texts\\quran-uthmani-min.txt\";\n",
    "var textLines = File.ReadAllLines(filePath).Take(6236);\n",
    "\n",
    "var options = new JsonSerializerOptions\n",
    "{\n",
    "    Encoder = JavaScriptEncoder.Create(UnicodeRanges.All),\n",
    "    WriteIndented = true\n",
    "};\n",
    "\n",
    "var ayatArrayJson = JsonSerializer.Serialize(textLines, options);\n",
    " \n",
    "File.WriteAllText(filePath + \".json\", ayatArrayJson);\n"
   ]
  },
  {
   "cell_type": "markdown",
   "metadata": {},
   "source": [
    "## Extract data from sqlite database and transform"
   ]
  },
  {
   "cell_type": "code",
   "execution_count": 4,
   "metadata": {
    "dotnet_interactive": {
     "language": "csharp"
    },
    "polyglot_notebook": {
     "kernelName": "csharp"
    }
   },
   "outputs": [
    {
     "data": {
      "text/html": [
       "<div><div></div><div></div><div><strong>Installed Packages</strong><ul><li><span>Dapper, 2.1.44</span></li><li><span>Microsoft.DotNet.Interactive.ExtensionLab, 1.0.0-beta.24229.4</span></li><li><span>System.Data.SQLite, 1.0.118</span></li></ul></div></div>"
      ]
     },
     "metadata": {},
     "output_type": "display_data"
    }
   ],
   "source": [
    "#r \"nuget: System.Data.SQLite, *-*\"\n",
    "#r \"nuget: Microsoft.DotNet.Interactive.ExtensionLab, *-*\"\n",
    "#r \"nuget: Dapper, *-*\"\n",
    "\n",
    "using System.IO;\n",
    "using System.Text.Json;\n",
    "using System.Text.Encodings.Web;\n",
    "using System.Text.Unicode;\n",
    "using System.Data.SQLite;\n",
    "using Dapper;\n",
    "\n",
    "var jsonSerializerOptions = new JsonSerializerOptions\n",
    "{\n",
    "    Encoder = JavaScriptEncoder.Create(UnicodeRanges.All),\n",
    "    WriteIndented = true\n",
    "};"
   ]
  },
  {
   "cell_type": "code",
   "execution_count": 7,
   "metadata": {
    "dotnet_interactive": {
     "language": "csharp"
    },
    "polyglot_notebook": {
     "kernelName": "csharp"
    }
   },
   "outputs": [],
   "source": [
    "var dbPath = @\"D:\\DatabaseBackups\\QuranDB\\\";\n",
    "\n",
    "bool SaveAsJson(string dbFilename, string saveToFolder){\n",
    "    var dbFileFullName = dbPath + dbFilename + \".db\";\n",
    "    \n",
    "    if (!File.Exists(dbFileFullName)) \n",
    "        return false;\n",
    "\n",
    "    using (var connenction = new SQLiteConnection($\"Data Source={dbFileFullName};Mode=Memory;Cache=Shared\"))\n",
    "    {\n",
    "        var result = connenction.Query(\"SELECT * FROM verses ORDER BY sura, ayah\");\n",
    "\n",
    "        var ayatTexts = result.Select(s=> s.text as string);\n",
    "        var ayatTextsJson = JsonSerializer.Serialize(ayatTexts, jsonSerializerOptions);\n",
    "    \n",
    "        File.WriteAllText(dbPath + \"extractedJson\\\\\" + saveToFolder + \"\\\\\" + dbFilename.Replace('_','-') + \".json\", ayatTextsJson);\n",
    "    }\n",
    "\n",
    "    return true;\n",
    "}\n",
    "\n",
    "//SaveAsJson(\"quran\");\n"
   ]
  },
  {
   "cell_type": "code",
   "execution_count": 8,
   "metadata": {
    "dotnet_interactive": {
     "language": "csharp"
    },
    "polyglot_notebook": {
     "kernelName": "csharp"
    }
   },
   "outputs": [],
   "source": [
    "using System.Globalization;\n",
    "\n",
    "string GetLocaleByLanguageCode(string twoLetterISOLanguageName)\n",
    "{\n",
    "    var cultures = CultureInfo.GetCultures(CultureTypes.AllCultures & ~CultureTypes.NeutralCultures);\n",
    "    return cultures.FirstOrDefault(f=>f.TwoLetterISOLanguageName == twoLetterISOLanguageName)?.Name;\n",
    "}\n",
    "\n",
    "//Console.WriteLine(GetLocaleByLanguageCode(\"bn\"));"
   ]
  },
  {
   "cell_type": "code",
   "execution_count": 10,
   "metadata": {
    "dotnet_interactive": {
     "language": "csharp"
    },
    "polyglot_notebook": {
     "kernelName": "csharp"
    }
   },
   "outputs": [],
   "source": [
    "var translationListJson = File.ReadAllText(dbPath + \"translation_list_all.json\");\n",
    "\n",
    "record TranslationItem(string Name, string lastModified, int downloadType, string fileName, bool isZip, int id, string language, string translator);\n",
    "\n",
    "var translationItems = JsonSerializer.Deserialize<TranslationItem[]>(translationListJson);\n",
    "\n",
    "var extractedTranslationItems = new List<TranslationItem>();\n",
    "\n",
    "foreach (var translationItem in translationItems){\n",
    "    var folderName = translationItem.downloadType == 1 ? \"tafsirs\" : \"translations\";\n",
    "    if (SaveAsJson(translationItem.fileName, folderName))\n",
    "        extractedTranslationItems.Add(translationItem);\n",
    "}\n",
    "\n",
    "IEnumerable MapTranslationObject(IEnumerable<TranslationItem> pTranslations){\n",
    "    return pTranslations.OrderBy(o=>o.Name).Select(item => new { \n",
    "        Name = item.Name.Split(\" - \")[1],\n",
    "        languageName = item.Name.Split(\" - \")[0],\n",
    "        translator = item.translator,\n",
    "        fileName = item.fileName.Replace('_','-'),\n",
    "        language = item.language,\n",
    "        locale = GetLocaleByLanguageCode(item.language)\n",
    "    });\n",
    "}\n",
    "\n",
    "var extractedTranslationList = MapTranslationObject(extractedTranslationItems.Where(f=>f.downloadType != 1));\n",
    "var extractedTranslationListJson = JsonSerializer.Serialize(extractedTranslationList, jsonSerializerOptions);\n",
    "File.WriteAllText(dbPath + \"extractedJson\\\\translation-list.json\", extractedTranslationListJson);\n",
    "\n",
    "var extractedTafsirList = MapTranslationObject(extractedTranslationItems.Where(f=>f.downloadType == 1));\n",
    "var extractedTafsirListJson = JsonSerializer.Serialize(extractedTafsirList, jsonSerializerOptions);\n",
    "File.WriteAllText(dbPath + \"extractedJson\\\\tafsir-list.json\", extractedTafsirListJson);\n"
   ]
  },
  {
   "cell_type": "markdown",
   "metadata": {},
   "source": [
    "Word by word translations"
   ]
  },
  {
   "cell_type": "code",
   "execution_count": 9,
   "metadata": {},
   "outputs": [],
   "source": [
    "var wordDbPath = @\"D:\\DatabaseBackups\\QuranDB\\corpus\\\";\n",
    "\n",
    "bool SaveWbwTranslationAsCsv(string dbFilename){\n",
    "    var dbFileFullName = wordDbPath + dbFilename + \".db\";\n",
    "    \n",
    "    if (!File.Exists(dbFileFullName)) \n",
    "        return false;\n",
    "\n",
    "    using (var connenction = new SQLiteConnection($\"Data Source={dbFileFullName};Mode=Memory;Cache=Shared\"))\n",
    "    {\n",
    "        var result = connenction.Query(\"SELECT * FROM quran\");\n",
    "\n",
    "        var words = result.Select(s=> s.tr as string);\n",
    "    \n",
    "        File.WriteAllText(wordDbPath + \"extractedCsv\\\\\" + dbFilename.Replace('_','-') + \".txt\",string.Join(Environment.NewLine, words));\n",
    "    }\n",
    "\n",
    "    return true;\n",
    "}\n",
    "\n",
    "//SavewbwTranslationAsCsv(\"words_bn\");"
   ]
  },
  {
   "cell_type": "code",
   "execution_count": 13,
   "metadata": {},
   "outputs": [],
   "source": [
    "var wbwTranslationListJson = File.ReadAllText(wordDbPath + \"wbw_db_list.json\");\n",
    "\n",
    "record WbwTranslationItem(string name, string language, string lastModified);\n",
    "\n",
    "var wbwTranslationItems = JsonSerializer.Deserialize<WbwTranslationItem[]>(wbwTranslationListJson);\n",
    "\n",
    "var extractedWbwTranslationItems = new List<WbwTranslationItem>();\n",
    "\n",
    "foreach (var wbwTranslationItem in wbwTranslationItems){\n",
    "    if (SaveWbwTranslationAsCsv(\"words_\" + wbwTranslationItem.language))\n",
    "        extractedWbwTranslationItems.Add(wbwTranslationItem);\n",
    "}\n",
    "\n",
    "IEnumerable MapTranslationObject(IEnumerable<WbwTranslationItem> pTranslations){\n",
    "    return pTranslations.OrderBy(o=>o.name).Select(item => new { \n",
    "        name = item.name,\n",
    "        fileName = \"words-\" + item.language,\n",
    "        language = item.language,\n",
    "    });\n",
    "}\n",
    "\n",
    "var extractedWbwTranslationList = MapTranslationObject(extractedWbwTranslationItems);\n",
    "var extractedWbwTranslationListJson = JsonSerializer.Serialize(extractedWbwTranslationList, jsonSerializerOptions);\n",
    "File.WriteAllText(wordDbPath + \"extractedCsv\\\\wbw-translation-list.json\", extractedWbwTranslationListJson);\n"
   ]
  }
 ],
 "metadata": {
  "kernelspec": {
   "display_name": ".NET (C#)",
   "language": "C#",
   "name": ".net-csharp"
  },
  "language_info": {
   "name": "polyglot-notebook"
  },
  "polyglot_notebook": {
   "kernelInfo": {
    "defaultKernelName": "csharp",
    "items": [
     {
      "aliases": [],
      "languageName": "csharp",
      "name": "csharp"
     }
    ]
   }
  }
 },
 "nbformat": 4,
 "nbformat_minor": 2
}
