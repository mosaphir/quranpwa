{
 "cells": [
  {
   "cell_type": "markdown",
   "metadata": {},
   "source": [
    "### .txt to .json"
   ]
  },
  {
   "cell_type": "code",
   "execution_count": 9,
   "metadata": {
    "dotnet_interactive": {
     "language": "csharp"
    },
    "polyglot_notebook": {
     "kernelName": "csharp"
    }
   },
   "outputs": [],
   "source": [
    "using System.IO;\n",
    "using System.Text.Json;\n",
    "using System.Text.Encodings.Web;\n",
    "using System.Text.Unicode;\n",
    "\n",
    "var filePath = @\"C:\\Users\\Faruque\\source\\repos\\quranpwa\\quranpwa\\src\\assets\\quran-texts\\quran-uthmani-min.txt\";\n",
    "var textLines = File.ReadAllLines(filePath).Take(6236);\n",
    "\n",
    "var options = new JsonSerializerOptions\n",
    "{\n",
    "    Encoder = JavaScriptEncoder.Create(UnicodeRanges.All),\n",
    "    WriteIndented = true\n",
    "};\n",
    "\n",
    "var ayatArrayJson = JsonSerializer.Serialize(textLines, options);\n",
    " \n",
    "File.WriteAllText(filePath + \".json\", ayatArrayJson);\n"
   ]
  },
  {
   "cell_type": "markdown",
   "metadata": {},
   "source": [
    "## Extract data from sqlite database and transform"
   ]
  },
  {
   "cell_type": "code",
   "execution_count": 1,
   "metadata": {
    "dotnet_interactive": {
     "language": "csharp"
    },
    "polyglot_notebook": {
     "kernelName": "csharp"
    }
   },
   "outputs": [
    {
     "data": {
      "text/html": [
       "<div><div></div><div></div><div><strong>Installed Packages</strong><ul><li><span>Dapper, 2.1.44</span></li><li><span>Microsoft.DotNet.Interactive.ExtensionLab, 1.0.0-beta.24229.4</span></li><li><span>System.Data.SQLite, 1.0.118</span></li></ul></div></div>"
      ]
     },
     "metadata": {},
     "output_type": "display_data"
    },
    {
     "data": {
      "text/plain": [
       "Loading extension script from `C:\\Users\\Faruque\\.nuget\\packages\\microsoft.dotnet.interactive.extensionlab\\1.0.0-beta.24229.4\\interactive-extensions\\dotnet\\extension.dib`"
      ]
     },
     "metadata": {},
     "output_type": "display_data"
    },
    {
     "data": {
      "text/html": [
       "<details><summary>Create strongly-typed dataframes using<code>#!linqify</code>.</summary>\r\n",
       "    <p>The <code>#!linqify</code> magic command replaces a <a href=\"https://www.nuget.org/packages/Microsoft.Data.Analysis/\"><code>Microsoft.Data.Analysis.DataFrame</code></a> variable with a generated, strongly-typed data frame, allowing the use of LINQ operations over the contained data.</p>\r\n",
       "    </details>"
      ]
     },
     "metadata": {},
     "output_type": "display_data"
    },
    {
     "data": {
      "text/html": [
       "<details><summary>ExplainCode</summary>\r\n",
       "    <p>This extension generates Sequence diagrams from csharp code using Mermaid kernel.</p>\r\n",
       "    </details>"
      ]
     },
     "metadata": {},
     "output_type": "display_data"
    },
    {
     "data": {
      "text/html": [
       "<details><summary>Inspect code compilation details using the <code>#!inspect</code> magic command.</summary>\r\n",
       "    <p>The <code>#!inspect</code> magic command allows you to see the C# decompilation, IL, and JIT Asm for the code in a C# cell.</p>\r\n",
       "    <img src=\"https://user-images.githubusercontent.com/547415/109560515-d5749a00-7a90-11eb-9fa3-51b737345bb4.png\" width=\"75%\" />\r\n",
       "    </details>"
      ]
     },
     "metadata": {},
     "output_type": "display_data"
    },
    {
     "data": {
      "text/html": [
       "<details><summary>Use the <code>#!record</code> magic command to keep a transcript of the code you run.</summary>\r\n",
       "    <p>Once you enable transcripts using <code>#!record</code>, each code submission (including re-running cells) is recorded in the specified file. The JSON format used is the same format recognized by the .NET Interactive <code>stdio</code> and <code>http</code> APIs and can be used to replay an interactive session via automation.</p>\r\n",
       "    <img src=\"https://user-images.githubusercontent.com/547415/109562409-343b1300-7a93-11eb-8ebf-79bb6af028cf.png\" width=\"75%\" />\r\n",
       "    </details>"
      ]
     },
     "metadata": {},
     "output_type": "display_data"
    },
    {
     "data": {
      "text/plain": [
       "Loading extensions from `C:\\Users\\Faruque\\.nuget\\packages\\microsoft.data.analysis\\0.21.0\\interactive-extensions\\dotnet\\Microsoft.Data.Analysis.Interactive.dll`"
      ]
     },
     "metadata": {},
     "output_type": "display_data"
    }
   ],
   "source": [
    "#r \"nuget: System.Data.SQLite, *-*\"\n",
    "#r \"nuget: Microsoft.DotNet.Interactive.ExtensionLab, *-*\"\n",
    "#r \"nuget: Dapper, *-*\"\n",
    "\n",
    "using System.IO;\n",
    "using System.Text.Json;\n",
    "using System.Text.Encodings.Web;\n",
    "using System.Text.Unicode;\n",
    "using System.Data.SQLite;\n",
    "using Dapper;\n",
    "\n",
    "var jsonSerializerOptions = new JsonSerializerOptions\n",
    "{\n",
    "    Encoder = JavaScriptEncoder.Create(UnicodeRanges.All),\n",
    "    WriteIndented = true\n",
    "};"
   ]
  },
  {
   "cell_type": "code",
   "execution_count": 2,
   "metadata": {
    "dotnet_interactive": {
     "language": "csharp"
    },
    "polyglot_notebook": {
     "kernelName": "csharp"
    }
   },
   "outputs": [],
   "source": [
    "var dbPath = @\"D:\\DatabaseBackups\\QuranDB\\\";\n",
    "\n",
    "bool SaveAsJson(string dbFilename, string saveToFolder){\n",
    "    var dbFileFullName = dbPath + dbFilename + \".db\";\n",
    "    \n",
    "    if (!File.Exists(dbFileFullName)) \n",
    "        return false;\n",
    "\n",
    "    using (var connenction = new SQLiteConnection($\"Data Source={dbFileFullName};Mode=Memory;Cache=Shared\"))\n",
    "    {\n",
    "        var result = connenction.Query(\"SELECT * FROM verses ORDER BY sura, ayah\");\n",
    "\n",
    "        var ayatTexts = result.Select(s=> s.text as string);\n",
    "        var ayatTextsJson = JsonSerializer.Serialize(ayatTexts, jsonSerializerOptions);\n",
    "    \n",
    "        File.WriteAllText(dbPath + \"extractedJson\\\\\" + saveToFolder + \"\\\\\" + dbFilename.Replace('_','-') + \".json\", ayatTextsJson);\n",
    "    }\n",
    "\n",
    "    return true;\n",
    "}\n",
    "\n",
    "//SaveAsJson(\"quran\");\n"
   ]
  },
  {
   "cell_type": "code",
   "execution_count": 3,
   "metadata": {
    "dotnet_interactive": {
     "language": "csharp"
    },
    "polyglot_notebook": {
     "kernelName": "csharp"
    }
   },
   "outputs": [],
   "source": [
    "using System.Globalization;\n",
    "\n",
    "string GetLocaleByLanguageCode(string twoLetterISOLanguageName)\n",
    "{\n",
    "    var cultures = CultureInfo.GetCultures(CultureTypes.AllCultures & ~CultureTypes.NeutralCultures);\n",
    "    return cultures.FirstOrDefault(f=>f.TwoLetterISOLanguageName == twoLetterISOLanguageName)?.Name;\n",
    "}\n",
    "\n",
    "//Console.WriteLine(GetLocaleByLanguageCode(\"bn\"));"
   ]
  },
  {
   "cell_type": "code",
   "execution_count": 4,
   "metadata": {
    "dotnet_interactive": {
     "language": "csharp"
    },
    "polyglot_notebook": {
     "kernelName": "csharp"
    }
   },
   "outputs": [],
   "source": [
    "var translationListJson = File.ReadAllText(dbPath + \"translation_list_all.json\");\n",
    "\n",
    "record TranslationItem(string Name, string lastModified, int downloadType, string fileName, bool isZip, int id, string language, string translator);\n",
    "\n",
    "var translationItems = JsonSerializer.Deserialize<TranslationItem[]>(translationListJson);\n",
    "\n",
    "var extractedTranslationItems = new List<TranslationItem>();\n",
    "\n",
    "foreach (var translationItem in translationItems){\n",
    "    var folderName = translationItem.downloadType == 1 ? \"tafsirs\" : \"translations\";\n",
    "    if (SaveAsJson(translationItem.fileName, folderName))\n",
    "        extractedTranslationItems.Add(translationItem);\n",
    "}\n",
    "\n",
    "IEnumerable MapTranslationObject(IEnumerable<TranslationItem> pTranslations){\n",
    "    return pTranslations.OrderBy(o=>o.Name).Select(item => new { \n",
    "        id = item.fileName.Replace('_','-'),\n",
    "        name = item.Name.Split(\" - \")[1],\n",
    "        languageName = item.Name.Split(\" - \")[0],\n",
    "        translator = item.translator,\n",
    "        language = item.language,\n",
    "        locale = GetLocaleByLanguageCode(item.language)\n",
    "    });\n",
    "}\n",
    "\n",
    "var extractedTranslationList = MapTranslationObject(extractedTranslationItems.Where(f=>f.downloadType != 1));\n",
    "var extractedTranslationListJson = JsonSerializer.Serialize(extractedTranslationList, jsonSerializerOptions);\n",
    "File.WriteAllText(dbPath + \"extractedJson\\\\translation-list.json\", extractedTranslationListJson);\n",
    "\n",
    "var extractedTafsirList = MapTranslationObject(extractedTranslationItems.Where(f=>f.downloadType == 1));\n",
    "var extractedTafsirListJson = JsonSerializer.Serialize(extractedTafsirList, jsonSerializerOptions);\n",
    "File.WriteAllText(dbPath + \"extractedJson\\\\tafsir-list.json\", extractedTafsirListJson);\n"
   ]
  },
  {
   "cell_type": "markdown",
   "metadata": {},
   "source": [
    "Word by word translations"
   ]
  },
  {
   "cell_type": "code",
   "execution_count": 5,
   "metadata": {
    "dotnet_interactive": {
     "language": "csharp"
    },
    "polyglot_notebook": {
     "kernelName": "csharp"
    }
   },
   "outputs": [],
   "source": [
    "var wordDbPath = @\"D:\\DatabaseBackups\\QuranDB\\corpus\\\";\n",
    "\n",
    "bool SaveWbwTranslationAsCsv(string dbFilename){\n",
    "    var dbFileFullName = wordDbPath + dbFilename + \".db\";\n",
    "    \n",
    "    if (!File.Exists(dbFileFullName)) \n",
    "        return false;\n",
    "\n",
    "    using (var connenction = new SQLiteConnection($\"Data Source={dbFileFullName};Mode=Memory;Cache=Shared\"))\n",
    "    {\n",
    "        var result = connenction.Query(\"SELECT * FROM quran\");\n",
    "\n",
    "        var words = result.Select(s=> s.tr as string);\n",
    "    \n",
    "        File.WriteAllText(wordDbPath + \"extractedCsv\\\\\" + dbFilename.Replace('_','-') + \".txt\",string.Join(Environment.NewLine, words));\n",
    "    }\n",
    "\n",
    "    return true;\n",
    "}\n",
    "\n",
    "//SavewbwTranslationAsCsv(\"words_bn\");"
   ]
  },
  {
   "cell_type": "code",
   "execution_count": 6,
   "metadata": {
    "dotnet_interactive": {
     "language": "csharp"
    },
    "polyglot_notebook": {
     "kernelName": "csharp"
    }
   },
   "outputs": [],
   "source": [
    "var wbwTranslationListJson = File.ReadAllText(wordDbPath + \"wbw_db_list.json\");\n",
    "\n",
    "record WbwTranslationItem(string name, string language, string lastModified);\n",
    "\n",
    "var wbwTranslationItems = JsonSerializer.Deserialize<WbwTranslationItem[]>(wbwTranslationListJson);\n",
    "\n",
    "var extractedWbwTranslationItems = new List<WbwTranslationItem>();\n",
    "\n",
    "foreach (var wbwTranslationItem in wbwTranslationItems){\n",
    "    if (SaveWbwTranslationAsCsv(\"words_\" + wbwTranslationItem.language))\n",
    "        extractedWbwTranslationItems.Add(wbwTranslationItem);\n",
    "}\n",
    "\n",
    "IEnumerable MapTranslationObject(IEnumerable<WbwTranslationItem> pTranslations){\n",
    "    return pTranslations.OrderBy(o=>o.name).Select(item => new { \n",
    "        id = \"words-\" + item.language,\n",
    "        name = item.name,\n",
    "        language = item.language,\n",
    "    });\n",
    "}\n",
    "\n",
    "var extractedWbwTranslationList = MapTranslationObject(extractedWbwTranslationItems);\n",
    "var extractedWbwTranslationListJson = JsonSerializer.Serialize(extractedWbwTranslationList, jsonSerializerOptions);\n",
    "File.WriteAllText(wordDbPath + \"extractedCsv\\\\wbw-translation-list.json\", extractedWbwTranslationListJson);\n"
   ]
  }
 ],
 "metadata": {
  "kernelspec": {
   "display_name": ".NET (C#)",
   "language": "C#",
   "name": ".net-csharp"
  },
  "language_info": {
   "name": "polyglot-notebook"
  },
  "polyglot_notebook": {
   "kernelInfo": {
    "defaultKernelName": "csharp",
    "items": [
     {
      "aliases": [],
      "languageName": "csharp",
      "name": "csharp"
     }
    ]
   }
  }
 },
 "nbformat": 4,
 "nbformat_minor": 2
}
