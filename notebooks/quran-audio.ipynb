{
 "cells": [
  {
   "cell_type": "markdown",
   "metadata": {},
   "source": [
    "### Extract timing files"
   ]
  },
  {
   "cell_type": "code",
   "execution_count": 1,
   "metadata": {
    "dotnet_interactive": {
     "language": "csharp"
    },
    "polyglot_notebook": {
     "kernelName": "csharp"
    },
    "vscode": {
     "languageId": "polyglot-notebook"
    }
   },
   "outputs": [],
   "source": [
    "#r \"nuget: System.Data.SQLite, *-*\"\n",
    "#r \"nuget: Microsoft.DotNet.Interactive.ExtensionLab, *-*\"\n",
    "#r \"nuget: Dapper, *-*\"\n",
    "\n",
    "using System.IO;\n",
    "using System.Text.Json;\n",
    "using System.Text.Encodings.Web;\n",
    "using System.Text.Unicode;\n",
    "using System.Data.SQLite;\n",
    "using Dapper;\n",
    "\n",
    "var jsonSerializerOptions = new JsonSerializerOptions\n",
    "{\n",
    "    Encoder = JavaScriptEncoder.Create(UnicodeRanges.All),\n",
    "    //WriteIndented = true\n",
    "};"
   ]
  },
  {
   "cell_type": "markdown",
   "metadata": {},
   "source": [
    "#### Recitation Timing (Word by word)"
   ]
  },
  {
   "cell_type": "code",
   "execution_count": 3,
   "metadata": {
    "dotnet_interactive": {
     "language": "csharp"
    },
    "polyglot_notebook": {
     "kernelName": "csharp"
    },
    "vscode": {
     "languageId": "polyglot-notebook"
    }
   },
   "outputs": [],
   "source": [
    "var dbPath = @\"D:\\DatabaseBackups\\QuranDB\\recitaion-timings\\\";\n",
    "\n",
    "record WbwRecitationTiming(long sura, long ayah, long time, string words);\n",
    "\n",
    "bool SaveAsJson(string dbFilename){\n",
    "    var dbFileFullName = dbPath + dbFilename + \".db\";\n",
    "    \n",
    "    if (!File.Exists(dbFileFullName)) \n",
    "        return false;\n",
    "\n",
    "    using (var connenction = new SQLiteConnection($\"Data Source={dbFileFullName};Mode=Memory;Cache=Shared\"))\n",
    "    {\n",
    "        var result = connenction.Query<WbwRecitationTiming>(\"SELECT sura, ayah, time, words FROM timings ORDER BY sura, ayah\");\n",
    "\n",
    "        var arrayList = new List<object>();\n",
    "\n",
    "        foreach (var item in result){\n",
    "            var words = item.words.Split(',');\n",
    "            var wordTimes = words.Select(w=>w.Split(':').Select(s=>Convert.ToInt32(s)));\n",
    "            arrayList.Add(new object[]{ item.sura, item.ayah, item.time, wordTimes, \"newLine\" });\n",
    "        }\n",
    "\n",
    "        var resultJson = JsonSerializer.Serialize(arrayList, jsonSerializerOptions)\n",
    "                            .Replace(\",\\\"newLine\\\"],\", \"],\" + Environment.NewLine)\n",
    "                            .Replace(\",\\\"newLine\\\"\",\"\");\n",
    "    \n",
    "        File.WriteAllText(dbPath + \"extractedJson\\\\\" + dbFilename + \".json\", resultJson);\n",
    "    }\n",
    "\n",
    "    return true;\n",
    "}\n",
    "\n",
    "SaveAsJson(\"mishari_alafasy\");"
   ]
  },
  {
   "cell_type": "markdown",
   "metadata": {},
   "source": [
    "#### Recitation Timing (Ayat by Ayat)"
   ]
  },
  {
   "cell_type": "code",
   "execution_count": 5,
   "metadata": {
    "dotnet_interactive": {
     "language": "csharp"
    },
    "polyglot_notebook": {
     "kernelName": "csharp"
    },
    "vscode": {
     "languageId": "polyglot-notebook"
    }
   },
   "outputs": [],
   "source": [
    "var dbPath = @\"D:\\DatabaseBackups\\QuranDB\\recitaion-timings\\\";\n",
    "\n",
    "record RecitationTiming(Int32 sura, Int32 ayah, Int32 time);\n",
    "\n",
    "bool SaveAsJson(string dbFilename){\n",
    "    var dbFileFullName = dbPath + dbFilename + \".db\";\n",
    "    \n",
    "    if (!File.Exists(dbFileFullName)) \n",
    "        return false;\n",
    "\n",
    "    using (var connenction = new SQLiteConnection($\"Data Source={dbFileFullName};Mode=Memory;Cache=Shared\"))\n",
    "    {\n",
    "        var result = connenction.Query<RecitationTiming>(\"SELECT sura, ayah, time FROM timings ORDER BY sura, ayah\");\n",
    "\n",
    "        var arrayList = new List<object>();\n",
    "\n",
    "        foreach (var item in result){       \n",
    "            if (item.ayah != 999)     \n",
    "                arrayList.Add(new object[]{ item.sura, item.ayah, item.time, \"newLine\" });\n",
    "        }\n",
    "\n",
    "        var resultJson = JsonSerializer.Serialize(arrayList, jsonSerializerOptions)\n",
    "                            .Replace(\",\\\"newLine\\\"],\", \"],\" + Environment.NewLine)\n",
    "                            .Replace(\",\\\"newLine\\\"\",\"\");\n",
    "    \n",
    "        File.WriteAllText(dbPath + \"extractedJson\\\\\" + dbFilename + \".json\", resultJson);\n",
    "    }\n",
    "\n",
    "    return true;\n",
    "}\n",
    "\n",
    "SaveAsJson(\"muaiqly_kfgqpc\");"
   ]
  },
  {
   "cell_type": "markdown",
   "metadata": {},
   "source": [
    "### Download timing files form qurancdn.com\n",
    "\n",
    "Reciters (id, name)\n",
    "\n",
    "- 1 abdul_baset/mujawwad\n",
    "- 2 abdul_baset/murattal\n",
    "- 3 abdurrahmaan_as_sudais/murattal\n",
    "- 4 abu_bakr_shatri/murattal\n",
    "- 5 hani_ar_rifai/murattal\n",
    "- 6 khalil_al_husary/murattal\n",
    "- 7 mishari_al_afasy/murattal\n",
    "- 8 siddiq_al-minshawi/mujawwad\n",
    "- 9 siddiq_minshawi/murattal\n",
    "- 10 saud_ash-shuraym/murattal\n",
    "- 11 abdul_muhsin_alqasim\n",
    "- 12 khalil_al_husary/muallim\n",
    "- 13 sa3d_al-ghaamidi/complete/\n",
    "- 14 fares\n",
    "- 17 sahl_yaaseen\n",
    "- 18 salaah_bukhaatir/\n",
    "- 19 ahmed_ibn_3ali_al-3ajamy/\n",
    "- 43 salahbudair/\n",
    "- 44 aziz_alili/\n",
    "- 58 mishaari_w_ibrahim_walk_si/\n",
    "- 66 abdullah_basfar_w_ibrahim_walk_si/\n",
    "- 88 mostafa_ismaeel/\n",
    "- 91 mohammad_altablawi/\n",
    "- 95 mishaari_california/\n",
    "- 97 yasser_ad-dussary/\n",
    "- 104 nasser_bin_ali_alqatami/\n",
    "- 122 mahmood_khaleel_al-husaree_iza3a/\n",
    "- 124 abdullah_matroud/\n",
    "- 126 ahmad_nauina/\n",
    "- 127 akram_al_alaqmi/\n",
    "- 128 ali_hajjaj_alsouasi/\n",
    "- 129 mahmood_ali_albana/\n",
    "- 158 ali_jaber/\n",
    "- 159 maher_almu3aiqly/year1440/\n",
    "- 160 bandar_baleela/complete/\n",
    "- 161 khalifah_taniji/murattal\n",
    "- 162 abdullaah_3awwaad_al-juhaynee/\n",
    "- 163 abdullaah_basfar/\n",
    "- 168 siddiq_minshawi/kids_repeat\n",
    "- 169 muhammad_jibreel/complete/\n",
    "- 170 khalid_jalil/murattal/mp3\n",
    "- 172 hadi_toure/mp3\n",
    "- 173 mishari_al_afasy/streaming/mp3\n",
    "- 174 yasser_ad-dussary/mp3"
   ]
  },
  {
   "cell_type": "code",
   "execution_count": 7,
   "metadata": {
    "dotnet_interactive": {
     "language": "csharp"
    },
    "polyglot_notebook": {
     "kernelName": "csharp"
    },
    "vscode": {
     "languageId": "polyglot-notebook"
    }
   },
   "outputs": [
    {
     "data": {
      "text/html": [
       "<div><div></div><div></div><div><strong>Installed Packages</strong><ul><li><span>System.Net.Http.Json, 9.0.0-preview.5.24306.7</span></li></ul></div></div>"
      ]
     },
     "metadata": {},
     "output_type": "display_data"
    }
   ],
   "source": [
    "#r \"nuget: System.Net.Http.Json, *-*\""
   ]
  },
  {
   "cell_type": "code",
   "execution_count": 38,
   "metadata": {
    "vscode": {
     "languageId": "polyglot-notebook"
    }
   },
   "outputs": [],
   "source": [
    "using System.IO;\n",
    "using System.Text.Json;\n",
    "using System.Net.Http;\n",
    "using System.Net.Http.Json;\n",
    "using System.Text.Encodings.Web;\n",
    "using System.Text.Unicode;\n",
    "\n",
    "var jsonSerializerOptions = new JsonSerializerOptions\n",
    "{\n",
    "    Encoder = JavaScriptEncoder.Create(UnicodeRanges.All),\n",
    "    WriteIndented = true\n",
    "};\n",
    "\n",
    "var srcPath = @\"D:\\Faruque\\Projects\\quranpwa\\src\\assets\\\";\n",
    "var quranDataJson = File.ReadAllText(srcPath + \"quran-data.json\");\n",
    "\n",
    "public class QuranData\n",
    "{\n",
    "    public List<List<object>> suras { get; set; }\n",
    "    public List<List<int>> hizb_quarters { get; set; }\n",
    "    public List<List<int>> manzils { get; set; }\n",
    "    public List<List<int>> rukus { get; set; }\n",
    "    public List<List<int>> pages { get; set; }\n",
    "    public List<List<object>> sajdas { get; set; }\n",
    "    public List<List<int>> juzs { get; set; }\n",
    "}\n",
    "\n",
    "var quranData = JsonSerializer.Deserialize<QuranData>(quranDataJson);\n",
    "\n",
    "// Root myDeserializedClass = JsonConvert.DeserializeObject<Root>(myJsonResponse);\n",
    "public class AudioFile\n",
    "{\n",
    "    public int id { get; set; }\n",
    "    public int chapter_id { get; set; }\n",
    "    public object file_size { get; set; }\n",
    "    public string format { get; set; }\n",
    "    public string audio_url { get; set; }\n",
    "    public int? duration { get; set; }\n",
    "    public List<VerseTiming> verse_timings { get; set; }\n",
    "}\n",
    "\n",
    "public class Root\n",
    "{\n",
    "    public List<AudioFile> audio_files { get; set; }\n",
    "}\n",
    "\n",
    "public class VerseTiming\n",
    "{\n",
    "    public string verse_key { get; set; }\n",
    "    public int timestamp_from { get; set; }\n",
    "    public int timestamp_to { get; set; }\n",
    "    public int? duration { get; set; }\n",
    "    public List<List<double>> segments { get; set; }\n",
    "}"
   ]
  },
  {
   "cell_type": "markdown",
   "metadata": {
    "vscode": {
     "languageId": "polyglot-notebook"
    }
   },
   "source": [
    "#### Download from the server"
   ]
  },
  {
   "cell_type": "code",
   "execution_count": 43,
   "metadata": {
    "dotnet_interactive": {
     "language": "csharp"
    },
    "polyglot_notebook": {
     "kernelName": "csharp"
    },
    "vscode": {
     "languageId": "polyglot-notebook"
    }
   },
   "outputs": [
    {
     "name": "stdout",
     "output_type": "stream",
     "text": [
      "Downloading sura: 1\n",
      "Downloading sura: 2\n",
      "Downloading sura: 3\n",
      "Downloading sura: 4\n",
      "Downloading sura: 5\n",
      "Downloading sura: 6\n",
      "Downloading sura: 7\n",
      "Downloading sura: 8\n",
      "Downloading sura: 9\n",
      "Downloading sura: 10\n",
      "Downloading sura: 11\n",
      "Downloading sura: 12\n",
      "Downloading sura: 13\n",
      "Downloading sura: 14\n",
      "Downloading sura: 15\n",
      "Downloading sura: 16\n",
      "Downloading sura: 17\n",
      "Downloading sura: 18\n",
      "Downloading sura: 19\n",
      "Downloading sura: 20\n",
      "Downloading sura: 21\n",
      "Downloading sura: 22\n",
      "Downloading sura: 23\n",
      "Downloading sura: 24\n",
      "Downloading sura: 25\n",
      "Downloading sura: 26\n",
      "Downloading sura: 27\n",
      "Downloading sura: 28\n",
      "Downloading sura: 29\n",
      "Downloading sura: 30\n",
      "Downloading sura: 31\n",
      "Downloading sura: 32\n",
      "Downloading sura: 33\n",
      "Downloading sura: 34\n",
      "Downloading sura: 35\n",
      "Downloading sura: 36\n",
      "Downloading sura: 37\n",
      "Downloading sura: 38\n",
      "Downloading sura: 39\n",
      "Downloading sura: 40\n",
      "Downloading sura: 41\n",
      "Downloading sura: 42\n",
      "Downloading sura: 43\n",
      "Downloading sura: 44\n",
      "Downloading sura: 45\n",
      "Downloading sura: 46\n",
      "Downloading sura: 47\n",
      "Downloading sura: 48\n",
      "Downloading sura: 49\n",
      "Downloading sura: 50\n",
      "Downloading sura: 51\n",
      "Downloading sura: 52\n",
      "Downloading sura: 53\n",
      "Downloading sura: 54\n",
      "Downloading sura: 55\n",
      "Downloading sura: 56\n",
      "Downloading sura: 57\n",
      "Downloading sura: 58\n",
      "Downloading sura: 59\n",
      "Downloading sura: 60\n",
      "Downloading sura: 61\n",
      "Downloading sura: 62\n",
      "Downloading sura: 63\n",
      "Downloading sura: 64\n",
      "Downloading sura: 65\n",
      "Downloading sura: 66\n",
      "Downloading sura: 67\n",
      "Downloading sura: 68\n",
      "Downloading sura: 69\n",
      "Downloading sura: 70\n",
      "Downloading sura: 71\n",
      "Downloading sura: 72\n",
      "Downloading sura: 73\n",
      "Downloading sura: 74\n",
      "Downloading sura: 75\n",
      "Downloading sura: 76\n",
      "Downloading sura: 77\n",
      "Downloading sura: 78\n",
      "Downloading sura: 79\n",
      "Downloading sura: 80\n",
      "Downloading sura: 81\n",
      "Downloading sura: 82\n",
      "Downloading sura: 83\n",
      "Downloading sura: 84\n",
      "Downloading sura: 85\n",
      "Downloading sura: 86\n",
      "Downloading sura: 87\n",
      "Downloading sura: 88\n",
      "Downloading sura: 89\n",
      "Downloading sura: 90\n",
      "Downloading sura: 91\n",
      "Downloading sura: 92\n",
      "Downloading sura: 93\n",
      "Downloading sura: 94\n",
      "Downloading sura: 95\n",
      "Downloading sura: 96\n",
      "Downloading sura: 97\n",
      "Downloading sura: 98\n",
      "Downloading sura: 99\n",
      "Downloading sura: 100\n",
      "Downloading sura: 101\n",
      "Downloading sura: 102\n",
      "Downloading sura: 103\n",
      "Downloading sura: 104\n",
      "Downloading sura: 105\n",
      "Downloading sura: 106\n",
      "Downloading sura: 107\n",
      "Downloading sura: 108\n",
      "Downloading sura: 109\n",
      "Downloading sura: 110\n",
      "Downloading sura: 111\n",
      "Downloading sura: 112\n",
      "Downloading sura: 113\n",
      "Downloading sura: 114\n",
      "Download completed\n"
     ]
    },
    {
     "data": {
      "text/html": [
       "<div class=\"dni-plaintext\"><pre>&lt;null&gt;</pre></div><style>\r\n",
       ".dni-code-hint {\r\n",
       "    font-style: italic;\r\n",
       "    overflow: hidden;\r\n",
       "    white-space: nowrap;\r\n",
       "}\r\n",
       ".dni-treeview {\r\n",
       "    white-space: nowrap;\r\n",
       "}\r\n",
       ".dni-treeview td {\r\n",
       "    vertical-align: top;\r\n",
       "    text-align: start;\r\n",
       "}\r\n",
       "details.dni-treeview {\r\n",
       "    padding-left: 1em;\r\n",
       "}\r\n",
       "table td {\r\n",
       "    text-align: start;\r\n",
       "}\r\n",
       "table tr { \r\n",
       "    vertical-align: top; \r\n",
       "    margin: 0em 0px;\r\n",
       "}\r\n",
       "table tr td pre \r\n",
       "{ \r\n",
       "    vertical-align: top !important; \r\n",
       "    margin: 0em 0px !important;\r\n",
       "} \r\n",
       "table th {\r\n",
       "    text-align: start;\r\n",
       "}\r\n",
       "</style>"
      ]
     },
     "metadata": {},
     "output_type": "display_data"
    }
   ],
   "source": [
    "var reciterId = 95;\n",
    "var reciterName = \"mishaari_california\";\n",
    "\n",
    "var urlBase = $\"https://api.qurancdn.com/api/qdc/audio/reciters/{reciterId}/audio_files?segments=true&chapter=\";\n",
    "var downloadPath = @\"D:\\DatabaseBackups\\QuranDB\\recitaion-timings\\downloaded-from-qurancdn\";\n",
    "var downloadFileName = downloadPath + $\"\\\\{reciterName}_audioTimingFiles.json\";\n",
    "\n",
    "if (File.Exists(downloadFileName)){\n",
    "    Console.WriteLine($\"File Exists!\");\n",
    "    return;\n",
    "}\n",
    "\n",
    "var audioTimingFiles = new List<AudioFile>();\n",
    "\n",
    "for(int i = 0; i < quranData.suras.Count; i++){\n",
    "    var sura = quranData.suras[i];\n",
    "    var serial = i + 1;\n",
    "    Console.WriteLine($\"Downloading sura: \" + serial);\n",
    "\n",
    "    using (var httpClient = new HttpClient()) {\n",
    "        var apiUrl = urlBase + serial;\n",
    "        var apiResponse = httpClient.GetAsync(apiUrl).Result;\n",
    "        var apiContent = apiResponse.Content.ReadFromJsonAsync<Root>().Result;\n",
    "        audioTimingFiles.AddRange(apiContent.audio_files);\n",
    "    }\n",
    "}\n",
    "\n",
    "var resultJson = JsonSerializer.Serialize(audioTimingFiles, jsonSerializerOptions);\n",
    "\n",
    "File.WriteAllText(downloadFileName, resultJson);\n",
    "\n",
    "Console.WriteLine($\"Download completed\");"
   ]
  },
  {
   "cell_type": "markdown",
   "metadata": {
    "vscode": {
     "languageId": "polyglot-notebook"
    }
   },
   "source": [
    "#### Process from file"
   ]
  },
  {
   "cell_type": "code",
   "execution_count": 44,
   "metadata": {
    "dotnet_interactive": {
     "language": "csharp"
    },
    "polyglot_notebook": {
     "kernelName": "csharp"
    },
    "vscode": {
     "languageId": "polyglot-notebook"
    }
   },
   "outputs": [
    {
     "data": {
      "text/plain": [
       "D:\\DatabaseBackups\\QuranDB\\recitaion-timings\\downloaded-from-qurancdn\\mishaari_california.json"
      ]
     },
     "metadata": {},
     "output_type": "display_data"
    }
   ],
   "source": [
    "var timingJson = File.ReadAllText(downloadFileName);\n",
    "var audioTimingFiles = JsonSerializer.Deserialize<List<AudioFile>>(timingJson);\n",
    "\n",
    "public class RecitaionTiming {\n",
    "    public int sura;\n",
    "    public int ayat;\n",
    "    public int time;\n",
    "    public List<List<double>> wordTimings;\n",
    "}\n",
    "var recitaionTimings = new List<RecitaionTiming>();\n",
    "\n",
    "foreach(var audioTimingFile in audioTimingFiles) {\n",
    "    recitaionTimings.AddRange(audioTimingFile.verse_timings.Select(verse_timing=> {\n",
    "        var verse_key = verse_timing.verse_key.Split(':');\n",
    "        return new RecitaionTiming { \n",
    "            sura = int.Parse(verse_key[0]),\n",
    "            ayat = int.Parse(verse_key[1]),\n",
    "            time = verse_timing.timestamp_from,\n",
    "            wordTimings = verse_timing.segments\n",
    "        };\n",
    "    }));\n",
    "}\n",
    "\n",
    "var arrayList = new List<object>();\n",
    "\n",
    "foreach (var item in recitaionTimings){\n",
    "    arrayList.Add(new object[]{ item.sura, item.ayat, item.time, item.wordTimings, \"newLine\" });\n",
    "}\n",
    "\n",
    "var resultJson = JsonSerializer.Serialize(arrayList)\n",
    "                    .Replace(\",\\\"newLine\\\"],\", \"],\" + Environment.NewLine)\n",
    "                    .Replace(\",\\\"newLine\\\"\",\"\");\n",
    "\n",
    "var parsedFileName = downloadPath + $\"\\\\{reciterName}.json\";\n",
    "File.WriteAllText(parsedFileName, resultJson);\n",
    "\n",
    "parsedFileName"
   ]
  },
  {
   "cell_type": "markdown",
   "metadata": {},
   "source": [
    "### Downlaod from quran.gov.bd"
   ]
  },
  {
   "cell_type": "code",
   "execution_count": null,
   "metadata": {
    "dotnet_interactive": {
     "language": "csharp"
    },
    "polyglot_notebook": {
     "kernelName": "csharp"
    },
    "vscode": {
     "languageId": "polyglot-notebook"
    }
   },
   "outputs": [],
   "source": [
    "using System.IO;\n",
    "using System.Text.Json;\n",
    "using System.Net;\n",
    "\n",
    "var srcPath = @\"D:\\Faruque\\Projects\\quranpwa\\src\\assets\\\";\n",
    "var quranDataJson = File.ReadAllText(srcPath + \"quran-data.json\");\n",
    "\n",
    "public class QuranData\n",
    "{\n",
    "    public List<List<object>> suras { get; set; }\n",
    "    public List<List<int>> hizb_quarters { get; set; }\n",
    "    public List<List<int>> manzils { get; set; }\n",
    "    public List<List<int>> rukus { get; set; }\n",
    "    public List<List<int>> pages { get; set; }\n",
    "    public List<List<object>> sajdas { get; set; }\n",
    "    public List<List<int>> juzs { get; set; }\n",
    "}\n",
    "\n",
    "var quranData = JsonSerializer.Deserialize<QuranData>(quranDataJson);\n",
    "\n",
    "record DownloadableFile(string url, string filename);\n",
    "\n",
    "var downlaodableFiles = new List<DownloadableFile>();\n",
    "\n",
    "for(int i = 0; i < quranData.suras.Count; i++){\n",
    "    var sura = quranData.suras[i];\n",
    "    var serial = i + 1;\n",
    "    //var start = (int)sura[0];\n",
    "    var ayas = int.Parse(sura[1].ToString());\n",
    "\n",
    "    for(int j = 1; j <= ayas; j++){\n",
    "        downlaodableFiles.Add( new($\"{serial}/{serial}-{j}.mp3\", $\"{serial.ToString().PadLeft(3, '0')}{j.ToString().PadLeft(3, '0')}.mp3\"));\n",
    "    }\n",
    "}\n",
    "\n",
    "var urlBase = \"http://quran.gov.bd/quran/Sound/bangla\";\n",
    "var downloadPath = @\"D:\\Faruque\\Projects\\QuranAudio\\Mahbub_Subhan_quran.gov.bd\";\n",
    "\n",
    "foreach (var downlaodableFile in downlaodableFiles){\n",
    "    string url = $\"{urlBase}/{downlaodableFile.url}\";\n",
    "    string filePath = $\"{downloadPath}\\\\{downlaodableFile.filename}\";\n",
    "\n",
    "    if (File.Exists(filePath))\n",
    "        continue;\n",
    "\n",
    "    using (var client = new WebClient())\n",
    "    {\n",
    "        client.DownloadFile(url, filePath);\n",
    "    }\n",
    "    Console.WriteLine($\"Downloaded file: {downlaodableFile}\");\n",
    "}\n",
    "\n",
    "Console.WriteLine($\"Download completed\");\n"
   ]
  }
 ],
 "metadata": {
  "kernelspec": {
   "display_name": ".NET (C#)",
   "language": "C#",
   "name": ".net-csharp"
  },
  "language_info": {
   "name": "python",
   "version": "3.12.4"
  },
  "polyglot_notebook": {
   "kernelInfo": {
    "defaultKernelName": "csharp",
    "items": [
     {
      "aliases": [],
      "languageName": "csharp",
      "name": "csharp"
     }
    ]
   }
  }
 },
 "nbformat": 4,
 "nbformat_minor": 2
}
