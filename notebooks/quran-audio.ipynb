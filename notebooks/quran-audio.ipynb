{
 "cells": [
  {
   "cell_type": "markdown",
   "metadata": {},
   "source": [
    "### Extract timing files"
   ]
  },
  {
   "cell_type": "code",
   "execution_count": 16,
   "metadata": {
    "dotnet_interactive": {
     "language": "csharp"
    },
    "polyglot_notebook": {
     "kernelName": "csharp"
    },
    "vscode": {
     "languageId": "polyglot-notebook"
    }
   },
   "outputs": [
    {
     "data": {
      "text/html": [
       "<div><div></div><div></div><div><strong>Installed Packages</strong><ul><li><span>Dapper, 2.1.44</span></li><li><span>Microsoft.DotNet.Interactive.ExtensionLab, 1.0.0-beta.24229.4</span></li><li><span>System.Data.SQLite, 1.0.118</span></li></ul></div></div>"
      ]
     },
     "metadata": {},
     "output_type": "display_data"
    }
   ],
   "source": [
    "#r \"nuget: System.Data.SQLite, *-*\"\n",
    "#r \"nuget: Microsoft.DotNet.Interactive.ExtensionLab, *-*\"\n",
    "#r \"nuget: Dapper, *-*\"\n",
    "\n",
    "using System.IO;\n",
    "using System.Text.Json;\n",
    "using System.Text.Encodings.Web;\n",
    "using System.Text.Unicode;\n",
    "using System.Data.SQLite;\n",
    "using Dapper;\n",
    "\n",
    "var jsonSerializerOptions = new JsonSerializerOptions\n",
    "{\n",
    "    Encoder = JavaScriptEncoder.Create(UnicodeRanges.All),\n",
    "    //WriteIndented = true\n",
    "};"
   ]
  },
  {
   "cell_type": "markdown",
   "metadata": {},
   "source": [
    "#### Recitation Timing (Word by word)"
   ]
  },
  {
   "cell_type": "code",
   "execution_count": 3,
   "metadata": {
    "dotnet_interactive": {
     "language": "csharp"
    },
    "polyglot_notebook": {
     "kernelName": "csharp"
    },
    "vscode": {
     "languageId": "polyglot-notebook"
    }
   },
   "outputs": [],
   "source": [
    "var dbPath = @\"D:\\DatabaseBackups\\QuranDB\\recitaion-timings\\\";\n",
    "\n",
    "record WbwRecitationTiming(long sura, long ayah, long time, string words);\n",
    "\n",
    "bool SaveAsJson(string dbFilename){\n",
    "    var dbFileFullName = dbPath + dbFilename + \".db\";\n",
    "    \n",
    "    if (!File.Exists(dbFileFullName)) \n",
    "        return false;\n",
    "\n",
    "    using (var connenction = new SQLiteConnection($\"Data Source={dbFileFullName};Mode=Memory;Cache=Shared\"))\n",
    "    {\n",
    "        var result = connenction.Query<WbwRecitationTiming>(\"SELECT sura, ayah, time, words FROM timings ORDER BY sura, ayah\");\n",
    "\n",
    "        var arrayList = new List<object>();\n",
    "\n",
    "        foreach (var item in result){\n",
    "            var words = item.words.Split(',');\n",
    "            var wordTimes = words.Select(w=>w.Split(':').Select(s=>Convert.ToInt32(s)));\n",
    "            arrayList.Add(new object[]{ item.sura, item.ayah, item.time, wordTimes, \"newLine\" });\n",
    "        }\n",
    "\n",
    "        var resultJson = JsonSerializer.Serialize(arrayList, jsonSerializerOptions)\n",
    "                            .Replace(\",\\\"newLine\\\"],\", \"],\" + Environment.NewLine)\n",
    "                            .Replace(\",\\\"newLine\\\"\",\"\");\n",
    "    \n",
    "        File.WriteAllText(dbPath + \"extractedJson\\\\\" + dbFilename + \".json\", resultJson);\n",
    "    }\n",
    "\n",
    "    return true;\n",
    "}\n",
    "\n",
    "SaveAsJson(\"mishari_alafasy\");"
   ]
  },
  {
   "cell_type": "markdown",
   "metadata": {},
   "source": [
    "#### Recitation Timing (Ayat by Ayat)"
   ]
  },
  {
   "cell_type": "code",
   "execution_count": 28,
   "metadata": {
    "dotnet_interactive": {
     "language": "csharp"
    },
    "polyglot_notebook": {
     "kernelName": "csharp"
    },
    "vscode": {
     "languageId": "polyglot-notebook"
    }
   },
   "outputs": [],
   "source": [
    "var dbPath = @\"D:\\DatabaseBackups\\QuranDB\\recitaion-timings\\\";\n",
    "\n",
    "record RecitationTiming(Int32 sura, Int32 ayah, Int32 time, Int64 duration);\n",
    "\n",
    "bool SaveAsJson(string dbFilename){\n",
    "    var dbFileFullName = dbPath + dbFilename + \".db\";\n",
    "    \n",
    "    if (!File.Exists(dbFileFullName)) \n",
    "        return false;\n",
    "\n",
    "    using (var connenction = new SQLiteConnection($\"Data Source={dbFileFullName};Mode=Memory;Cache=Shared\"))\n",
    "    {\n",
    "        var result = connenction.Query<RecitationTiming>(\"SELECT sura, ayah, time, 0 as duration FROM timings ORDER BY sura, ayah\").ToList();\n",
    "\n",
    "        var arrayList = new List<object>();\n",
    "\n",
    "        for (int i=0; i < result.Count() - 1; i++){\n",
    "            var item = result[i];\n",
    "            if (item.ayah != 999){\n",
    "                var nextItem = result[i + 1];\n",
    "                var duration = nextItem.time - item.time - 1;\n",
    "                arrayList.Add(new object[]{ item.sura, item.ayah, item.time, duration, \"newLine\" });\n",
    "            }\n",
    "        }\n",
    "\n",
    "        var resultJson = JsonSerializer.Serialize(arrayList, jsonSerializerOptions)\n",
    "                            .Replace(\",\\\"newLine\\\"],\", \"],\" + Environment.NewLine)\n",
    "                            .Replace(\",\\\"newLine\\\"\",\"\");\n",
    "    \n",
    "        File.WriteAllText(dbPath + \"extractedJson\\\\\" + dbFilename + \".json\", resultJson);\n",
    "    }\n",
    "\n",
    "    return true;\n",
    "}\n",
    "\n",
    "SaveAsJson(\"muaiqly_kfgqpc\");"
   ]
  },
  {
   "cell_type": "markdown",
   "metadata": {},
   "source": [
    "### Download timing files form qurancdn.com\n",
    "\n",
    "Reciters (id, name)\n",
    "\n",
    "- 1 abdul_baset/mujawwad\n",
    "- 2 abdul_baset/murattal\n",
    "- 3 abdurrahmaan_as_sudais/murattal\n",
    "- 4 abu_bakr_shatri/murattal\n",
    "- 5 hani_ar_rifai/murattal\n",
    "- 6 khalil_al_husary/murattal\n",
    "- 7 mishari_al_afasy/murattal\n",
    "- 8 siddiq_al-minshawi/mujawwad\n",
    "- 9 siddiq_minshawi/murattal\n",
    "- 10 saud_ash-shuraym/murattal\n",
    "- 11 abdul_muhsin_alqasim\n",
    "- 12 khalil_al_husary/muallim\n",
    "- 13 sa3d_al-ghaamidi/complete/\n",
    "- 14 fares\n",
    "- 17 sahl_yaaseen\n",
    "- 18 salaah_bukhaatir/\n",
    "- 19 ahmed_ibn_3ali_al-3ajamy/\n",
    "- 43 salahbudair/\n",
    "- 44 aziz_alili/\n",
    "- 58 mishaari_w_ibrahim_walk_si/\n",
    "- 66 abdullah_basfar_w_ibrahim_walk_si/\n",
    "- 88 mostafa_ismaeel/\n",
    "- 91 mohammad_altablawi/\n",
    "- 95 mishaari_california/\n",
    "- 97 yasser_ad-dussary/\n",
    "- 104 nasser_bin_ali_alqatami/\n",
    "- 122 mahmood_khaleel_al-husaree_iza3a/\n",
    "- 124 abdullah_matroud/\n",
    "- 126 ahmad_nauina/\n",
    "- 127 akram_al_alaqmi/\n",
    "- 128 ali_hajjaj_alsouasi/\n",
    "- 129 mahmood_ali_albana/\n",
    "- 158 ali_jaber/\n",
    "- 159 maher_almu3aiqly/year1440/\n",
    "- 160 bandar_baleela/complete/\n",
    "- 161 khalifah_taniji/murattal\n",
    "- 162 abdullaah_3awwaad_al-juhaynee/\n",
    "- 163 abdullaah_basfar/\n",
    "- 168 siddiq_minshawi/kids_repeat\n",
    "- 169 muhammad_jibreel/complete/\n",
    "- 170 khalid_jalil/murattal/mp3\n",
    "- 172 hadi_toure/mp3\n",
    "- 173 mishari_al_afasy/streaming/mp3\n",
    "- 174 yasser_ad-dussary/mp3"
   ]
  },
  {
   "cell_type": "code",
   "execution_count": 29,
   "metadata": {
    "dotnet_interactive": {
     "language": "csharp"
    },
    "polyglot_notebook": {
     "kernelName": "csharp"
    },
    "vscode": {
     "languageId": "polyglot-notebook"
    }
   },
   "outputs": [
    {
     "data": {
      "text/html": [
       "<div><div></div><div></div><div><strong>Installed Packages</strong><ul><li><span>System.Net.Http.Json, 9.0.0-preview.5.24306.7</span></li></ul></div></div>"
      ]
     },
     "metadata": {},
     "output_type": "display_data"
    }
   ],
   "source": [
    "#r \"nuget: System.Net.Http.Json, *-*\""
   ]
  },
  {
   "cell_type": "code",
   "execution_count": 30,
   "metadata": {
    "dotnet_interactive": {
     "language": "csharp"
    },
    "polyglot_notebook": {
     "kernelName": "csharp"
    },
    "vscode": {
     "languageId": "polyglot-notebook"
    }
   },
   "outputs": [],
   "source": [
    "using System.IO;\n",
    "using System.Text.Json;\n",
    "using System.Net.Http;\n",
    "using System.Net.Http.Json;\n",
    "using System.Text.Encodings.Web;\n",
    "using System.Text.Unicode;\n",
    "\n",
    "var jsonSerializerOptions = new JsonSerializerOptions\n",
    "{\n",
    "    Encoder = JavaScriptEncoder.Create(UnicodeRanges.All),\n",
    "    WriteIndented = true\n",
    "};\n",
    "\n",
    "var srcPath = @\"D:\\Faruque\\Projects\\quranpwa\\src\\assets\\\";\n",
    "var quranDataJson = File.ReadAllText(srcPath + \"quran-data.json\");\n",
    "\n",
    "public class QuranData\n",
    "{\n",
    "    public List<List<object>> suras { get; set; }\n",
    "    public List<List<int>> hizb_quarters { get; set; }\n",
    "    public List<List<int>> manzils { get; set; }\n",
    "    public List<List<int>> rukus { get; set; }\n",
    "    public List<List<int>> pages { get; set; }\n",
    "    public List<List<object>> sajdas { get; set; }\n",
    "    public List<List<int>> juzs { get; set; }\n",
    "}\n",
    "\n",
    "var quranData = JsonSerializer.Deserialize<QuranData>(quranDataJson);\n",
    "\n",
    "// Root myDeserializedClass = JsonConvert.DeserializeObject<Root>(myJsonResponse);\n",
    "public class AudioFile\n",
    "{\n",
    "    public int id { get; set; }\n",
    "    public int chapter_id { get; set; }\n",
    "    public object file_size { get; set; }\n",
    "    public string format { get; set; }\n",
    "    public string audio_url { get; set; }\n",
    "    public int? duration { get; set; }\n",
    "    public List<VerseTiming> verse_timings { get; set; }\n",
    "}\n",
    "\n",
    "public class Root\n",
    "{\n",
    "    public List<AudioFile> audio_files { get; set; }\n",
    "}\n",
    "\n",
    "public class VerseTiming\n",
    "{\n",
    "    public string verse_key { get; set; }\n",
    "    public int timestamp_from { get; set; }\n",
    "    public int timestamp_to { get; set; }\n",
    "    public int? duration { get; set; }\n",
    "    public List<List<double>> segments { get; set; }\n",
    "}"
   ]
  },
  {
   "cell_type": "markdown",
   "metadata": {
    "vscode": {
     "languageId": "polyglot-notebook"
    }
   },
   "source": [
    "#### Download from the server"
   ]
  },
  {
   "cell_type": "code",
   "execution_count": 31,
   "metadata": {
    "dotnet_interactive": {
     "language": "csharp"
    },
    "polyglot_notebook": {
     "kernelName": "csharp"
    },
    "vscode": {
     "languageId": "polyglot-notebook"
    }
   },
   "outputs": [],
   "source": [
    "var downloadPath = @\"D:\\DatabaseBackups\\QuranDB\\recitaion-timings\\downloaded-from-qurancdn\";\n",
    "\n",
    "string DownloadTimingFile(int reciterId, string reciterName) \n",
    "{\n",
    "    Console.WriteLine($\"Downloading Timing File for \" + reciterName);\n",
    "\n",
    "    var urlBase = $\"https://api.qurancdn.com/api/qdc/audio/reciters/{reciterId}/audio_files?segments=true&chapter=\";\n",
    "    var downloadFileName = downloadPath + $\"\\\\{reciterName}_audioTimingFiles.json\";\n",
    "\n",
    "    if (File.Exists(downloadFileName)){\n",
    "        Console.WriteLine($\"File Exists!\");\n",
    "        return downloadFileName;\n",
    "    }\n",
    "\n",
    "    var audioTimingFiles = new List<AudioFile>();\n",
    "\n",
    "    for(int i = 0; i < quranData.suras.Count; i++){\n",
    "        var sura = quranData.suras[i];\n",
    "        var serial = i + 1;\n",
    "        Console.WriteLine($\"Downloading sura: \" + serial);\n",
    "\n",
    "        using (var httpClient = new HttpClient()) {\n",
    "            var apiUrl = urlBase + serial;\n",
    "            var apiResponse = httpClient.GetAsync(apiUrl).Result;\n",
    "            var apiContent = apiResponse.Content.ReadFromJsonAsync<Root>().Result;\n",
    "            audioTimingFiles.AddRange(apiContent.audio_files);\n",
    "        }\n",
    "    }\n",
    "\n",
    "    var resultJson = JsonSerializer.Serialize(audioTimingFiles, jsonSerializerOptions);\n",
    "\n",
    "    File.WriteAllText(downloadFileName, resultJson);\n",
    "\n",
    "    Console.WriteLine($\"Download completed for \" + reciterName);\n",
    "    \n",
    "    return downloadFileName;\n",
    "}\n"
   ]
  },
  {
   "cell_type": "markdown",
   "metadata": {
    "vscode": {
     "languageId": "polyglot-notebook"
    }
   },
   "source": [
    "#### Process from file"
   ]
  },
  {
   "cell_type": "code",
   "execution_count": 38,
   "metadata": {
    "dotnet_interactive": {
     "language": "csharp"
    },
    "polyglot_notebook": {
     "kernelName": "csharp"
    },
    "vscode": {
     "languageId": "polyglot-notebook"
    }
   },
   "outputs": [],
   "source": [
    "public class RecitaionTiming {\n",
    "    public int sura;\n",
    "    public int ayat;\n",
    "    public int timeStart;\n",
    "    public int duration;\n",
    "    public List<List<double>> wordTimings;\n",
    "}\n",
    "\n",
    "string ProcessDownloadedFile(string downloadFileName, string reciterName)\n",
    "{\n",
    "    var timingJson = File.ReadAllText(downloadFileName);\n",
    "    var audioTimingFiles = JsonSerializer.Deserialize<List<AudioFile>>(timingJson);\n",
    "\n",
    "    var recitaionTimings = new List<RecitaionTiming>();\n",
    "\n",
    "    foreach(var audioTimingFile in audioTimingFiles) {\n",
    "        recitaionTimings.AddRange(audioTimingFile.verse_timings.Select(verse_timing=> {\n",
    "            var verse_key = verse_timing.verse_key.Split(':');\n",
    "            var duration = verse_timing.duration??0;\n",
    "            var duration2 = verse_timing.timestamp_to - verse_timing.timestamp_from - 1;\n",
    "            var isDurationInSecond = duration * 2 < duration2;\n",
    "\n",
    "            return new RecitaionTiming { \n",
    "                sura = int.Parse(verse_key[0]),\n",
    "                ayat = int.Parse(verse_key[1]),\n",
    "                timeStart = verse_timing.timestamp_from,\n",
    "                duration = isDurationInSecond ? duration2 : duration,\n",
    "                wordTimings = verse_timing.segments\n",
    "            };\n",
    "        }));\n",
    "    }\n",
    "\n",
    "    var arrayList = new List<object>();\n",
    "\n",
    "    foreach (var item in recitaionTimings){\n",
    "        arrayList.Add(new object[]{ item.sura, item.ayat, item.timeStart, item.duration, item.wordTimings, \"newLine\" });\n",
    "    }\n",
    "\n",
    "    var resultJson = JsonSerializer.Serialize(arrayList)\n",
    "                        .Replace(\",\\\"newLine\\\"],\", \"],\" + Environment.NewLine)\n",
    "                        .Replace(\",\\\"newLine\\\"\",\"\");\n",
    "\n",
    "    var parsedFileName = downloadPath + $\"\\\\{reciterName}.json\";\n",
    "    File.WriteAllText(parsedFileName, resultJson);\n",
    "\n",
    "    return parsedFileName;\n",
    "}\n"
   ]
  },
  {
   "cell_type": "code",
   "execution_count": 39,
   "metadata": {
    "dotnet_interactive": {
     "language": "csharp"
    },
    "polyglot_notebook": {
     "kernelName": "csharp"
    },
    "vscode": {
     "languageId": "polyglot-notebook"
    }
   },
   "outputs": [
    {
     "name": "stdout",
     "output_type": "stream",
     "text": [
      "Downloading Timing File for abdul_baset_mujawwad\n",
      "File Exists!\n",
      "D:\\DatabaseBackups\\QuranDB\\recitaion-timings\\downloaded-from-qurancdn\\abdul_baset_mujawwad.json\n",
      "Downloading Timing File for abdul_baset_murattal\n",
      "File Exists!\n",
      "D:\\DatabaseBackups\\QuranDB\\recitaion-timings\\downloaded-from-qurancdn\\abdul_baset_murattal.json\n",
      "Downloading Timing File for abdur-rahman_as-sudais\n",
      "File Exists!\n",
      "D:\\DatabaseBackups\\QuranDB\\recitaion-timings\\downloaded-from-qurancdn\\abdur-rahman_as-sudais.json\n",
      "Downloading Timing File for abu_bakr_shatri\n",
      "File Exists!\n",
      "D:\\DatabaseBackups\\QuranDB\\recitaion-timings\\downloaded-from-qurancdn\\abu_bakr_shatri.json\n",
      "Downloading Timing File for mishari_alafasy\n",
      "File Exists!\n",
      "D:\\DatabaseBackups\\QuranDB\\recitaion-timings\\downloaded-from-qurancdn\\mishari_alafasy.json\n",
      "Downloading Timing File for siddiq_al-minshawi_mujawwad\n",
      "File Exists!\n",
      "D:\\DatabaseBackups\\QuranDB\\recitaion-timings\\downloaded-from-qurancdn\\siddiq_al-minshawi_mujawwad.json\n",
      "Downloading Timing File for siddiq_al-minshawi_murattal\n",
      "File Exists!\n",
      "D:\\DatabaseBackups\\QuranDB\\recitaion-timings\\downloaded-from-qurancdn\\siddiq_al-minshawi_murattal.json\n",
      "Downloading Timing File for saud_ash-shuraym\n",
      "File Exists!\n",
      "D:\\DatabaseBackups\\QuranDB\\recitaion-timings\\downloaded-from-qurancdn\\saud_ash-shuraym.json\n",
      "Downloading Timing File for saad_al-ghamidi\n",
      "File Exists!\n",
      "D:\\DatabaseBackups\\QuranDB\\recitaion-timings\\downloaded-from-qurancdn\\saad_al-ghamidi.json\n",
      "Downloading Timing File for mishari_alafasy_california\n",
      "File Exists!\n",
      "D:\\DatabaseBackups\\QuranDB\\recitaion-timings\\downloaded-from-qurancdn\\mishari_alafasy_california.json\n",
      "Downloading Timing File for khalifah_taniji\n",
      "File Exists!\n",
      "D:\\DatabaseBackups\\QuranDB\\recitaion-timings\\downloaded-from-qurancdn\\khalifah_taniji.json\n"
     ]
    }
   ],
   "source": [
    "var reciterDict = new Dictionary<int, string>();\n",
    "reciterDict.Add(1, \"abdul_baset_mujawwad\");\n",
    "reciterDict.Add(2, \"abdul_baset_murattal\");\n",
    "reciterDict.Add(3, \"abdur-rahman_as-sudais\");\n",
    "reciterDict.Add(4, \"abu_bakr_shatri\");\n",
    "// reciterDict.Add(5, \"hani_ar_rifai\");\n",
    "// reciterDict.Add(6, \"khalil_al_husary_murattal\");\n",
    "reciterDict.Add(7, \"mishari_alafasy\");\n",
    "reciterDict.Add(8, \"siddiq_al-minshawi_mujawwad\");\n",
    "reciterDict.Add(9, \"siddiq_al-minshawi_murattal\");\n",
    "reciterDict.Add(10, \"saud_ash-shuraym\");\n",
    "// reciterDict.Add(11, \"abdul_muhsin_alqasim\");\n",
    "// reciterDict.Add(12, \"khalil_al_husary_muallim\");\n",
    "reciterDict.Add(13, \"saad_al-ghamidi\");\n",
    "// reciterDict.Add(14, \"fares\");\n",
    "// reciterDict.Add(17, \"sahl_yaaseen\");\n",
    "// reciterDict.Add(18, \"salaah_bukhaatir\");\n",
    "// reciterDict.Add(19, \"ahmed_ibn_3ali_al-3ajamy\");\n",
    "// reciterDict.Add(43, \"salahbudair\");\n",
    "// reciterDict.Add(44, \"aziz_alili\");\n",
    "// reciterDict.Add(58, \"mishaari_w_ibrahim_walk_si\");\n",
    "// reciterDict.Add(66, \"abdullah_basfar_w_ibrahim_walk_si\");\n",
    "// reciterDict.Add(88, \"mostafa_ismaeel\");\n",
    "// reciterDict.Add(91, \"mohammad_altablawi\");\n",
    "reciterDict.Add(95, \"mishari_alafasy_california\");\n",
    "// reciterDict.Add(97, \"yasser_ad-dussary\");\n",
    "// reciterDict.Add(104, \"nasser_bin_ali_alqatami\");\n",
    "// reciterDict.Add(122, \"mahmood_khaleel_al-husaree_iza3a\");\n",
    "// reciterDict.Add(124, \"abdullah_matroud\");\n",
    "// reciterDict.Add(126, \"ahmad_nauina\");\n",
    "// reciterDict.Add(127, \"akram_al_alaqmi\");\n",
    "// reciterDict.Add(128, \"ali_hajjaj_alsouasi\");\n",
    "// reciterDict.Add(129, \"mahmood_ali_albana\");\n",
    "// reciterDict.Add(158, \"ali_jaber\");\n",
    "// reciterDict.Add(159, \"maher_almu3aiqly_year1440\");\n",
    "// reciterDict.Add(160, \"bandar_baleela\");\n",
    "reciterDict.Add(161, \"khalifah_taniji\");\n",
    "// reciterDict.Add(162, \"abdullaah_3awwaad_al-juhaynee\");\n",
    "// reciterDict.Add(163, \"abdullaah_basfar\");\n",
    "// reciterDict.Add(168, \"siddiq_minshawi_kids_repeat\");\n",
    "// reciterDict.Add(169, \"muhammad_jibreel\");\n",
    "// reciterDict.Add(170, \"khalid_jalil_murattal\");\n",
    "// reciterDict.Add(172, \"hadi_toure\");\n",
    "// reciterDict.Add(173, \"mishari_al_afasy_streaming\");\n",
    "// reciterDict.Add(174, \"yasser_ad-dussary\");\n",
    "\n",
    "foreach (var item in reciterDict) {\n",
    "    var downloadFileName = DownloadTimingFile(item.Key, item.Value);\n",
    "\n",
    "    var parsedFileName = ProcessDownloadedFile(downloadFileName, item.Value);\n",
    "\n",
    "    Console.WriteLine(parsedFileName);\n",
    "}"
   ]
  },
  {
   "cell_type": "markdown",
   "metadata": {},
   "source": [
    "### Downlaod from quran.gov.bd"
   ]
  },
  {
   "cell_type": "code",
   "execution_count": 6,
   "metadata": {
    "dotnet_interactive": {
     "language": "csharp"
    },
    "polyglot_notebook": {
     "kernelName": "csharp"
    },
    "vscode": {
     "languageId": "polyglot-notebook"
    }
   },
   "outputs": [
    {
     "name": "stdout",
     "output_type": "stream",
     "text": [
      "Download completed\r\n"
     ]
    }
   ],
   "source": [
    "using System.IO;\n",
    "using System.Text.Json;\n",
    "using System.Net;\n",
    "\n",
    "var srcPath = @\"D:\\Faruque\\Projects\\quranpwa\\src\\assets\\\";\n",
    "var quranDataJson = File.ReadAllText(srcPath + \"quran-data.json\");\n",
    "\n",
    "public class QuranData\n",
    "{\n",
    "    public List<List<object>> suras { get; set; }\n",
    "    public List<List<int>> hizb_quarters { get; set; }\n",
    "    public List<List<int>> manzils { get; set; }\n",
    "    public List<List<int>> rukus { get; set; }\n",
    "    public List<List<int>> pages { get; set; }\n",
    "    public List<List<object>> sajdas { get; set; }\n",
    "    public List<List<int>> juzs { get; set; }\n",
    "}\n",
    "\n",
    "var quranData = JsonSerializer.Deserialize<QuranData>(quranDataJson);\n",
    "\n",
    "record DownloadableFile(int sura, int ayat, string url, string filename);\n",
    "\n",
    "var downlaodableFiles = new List<DownloadableFile>();\n",
    "\n",
    "for(int i = 0; i < quranData.suras.Count; i++){\n",
    "    var sura = quranData.suras[i];\n",
    "    var serial = i + 1;\n",
    "    //var start = (int)sura[0];\n",
    "    var ayas = int.Parse(sura[1].ToString());\n",
    "\n",
    "    for(int j = 1; j <= ayas; j++){\n",
    "        downlaodableFiles.Add( new(serial, j, $\"{serial}/{serial}-{j}.mp3\", $\"{serial.ToString().PadLeft(3, '0')}{j.ToString().PadLeft(3, '0')}.mp3\"));\n",
    "    }\n",
    "}\n",
    "\n",
    "var urlBase = \"http://quran.gov.bd/quran/Sound/english\";\n",
    "var downloadPath = @\"D:\\Faruque\\Projects\\QuranAudio\\mahmudur_rahman_english_quran.gov.bd\";\n",
    "\n",
    "foreach (var downlaodableFile in downlaodableFiles){\n",
    "    string url = $\"{urlBase}/{downlaodableFile.url}\";\n",
    "    string filePath = $\"{downloadPath}\\\\{downlaodableFile.filename}\";\n",
    "\n",
    "    if (File.Exists(filePath))\n",
    "        continue;\n",
    "\n",
    "    using (var client = new WebClient())\n",
    "    {\n",
    "        client.DownloadFile(url, filePath);\n",
    "    }\n",
    "    Console.WriteLine($\"Downloaded file: {downlaodableFile}\");\n",
    "}\n",
    "\n",
    "Console.WriteLine($\"Download completed\");\n"
   ]
  },
  {
   "cell_type": "markdown",
   "metadata": {},
   "source": [
    "Generating timing file"
   ]
  },
  {
   "cell_type": "code",
   "execution_count": 1,
   "metadata": {
    "vscode": {
     "languageId": "polyglot-notebook"
    }
   },
   "outputs": [
    {
     "data": {
      "text/html": [
       "<div><div></div><div></div><div><strong>Installed Packages</strong><ul><li><span>NAudio, 2.2.1</span></li></ul></div></div>"
      ]
     },
     "metadata": {},
     "output_type": "display_data"
    }
   ],
   "source": [
    "#r \"nuget: NAudio, *-*\""
   ]
  },
  {
   "cell_type": "code",
   "execution_count": 14,
   "metadata": {
    "vscode": {
     "languageId": "polyglot-notebook"
    }
   },
   "outputs": [],
   "source": [
    "using NAudio.Wave;\n",
    "\n",
    "public class RecitaionTiming {\n",
    "    public int sura;\n",
    "    public int ayat;\n",
    "    public int timeStart;\n",
    "    public int duration;\n",
    "}\n",
    "var recitaionTimings = new List<RecitaionTiming>();\n",
    "\n",
    "var filePath = @\"D:\\Faruque\\Projects\\QuranAudio\\mahbub_subhan_quran.gov.bd\\\";\n",
    "\n",
    "downlaodableFiles.ForEach(item=>{\n",
    "    var reader = new MediaFoundationReader(filePath + item.filename);\n",
    "    \n",
    "    recitaionTimings.Add(new(){ \n",
    "        sura=item.sura, \n",
    "        ayat=item.ayat, \n",
    "        timeStart=0, \n",
    "        duration= (int)reader.TotalTime.TotalMilliseconds\n",
    "    });\n",
    "\n",
    "    reader.Dispose();\n",
    "});\n",
    "\n",
    "var arrayList = new List<object>();\n",
    "\n",
    "foreach (var item in recitaionTimings){\n",
    "    arrayList.Add(new object[]{ item.sura, item.ayat, item.timeStart, item.duration, \"newLine\" });\n",
    "}\n",
    "\n",
    "var resultJson = JsonSerializer.Serialize(arrayList)\n",
    "                    .Replace(\",\\\"newLine\\\"],\", \"],\" + Environment.NewLine)\n",
    "                    .Replace(\",\\\"newLine\\\"\",\"\");\n",
    "\n",
    "var parsedFileName = filePath + $\"\\\\mahbub_subhan_quran.gov.bd.json\";\n",
    "File.WriteAllText(parsedFileName, resultJson);"
   ]
  }
 ],
 "metadata": {
  "kernelspec": {
   "display_name": ".NET (C#)",
   "language": "C#",
   "name": ".net-csharp"
  },
  "language_info": {
   "name": "python",
   "version": "3.12.4"
  },
  "polyglot_notebook": {
   "kernelInfo": {
    "defaultKernelName": "csharp",
    "items": [
     {
      "aliases": [],
      "languageName": "csharp",
      "name": "csharp"
     }
    ]
   }
  }
 },
 "nbformat": 4,
 "nbformat_minor": 2
}
