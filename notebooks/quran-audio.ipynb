{
 "cells": [
  {
   "cell_type": "markdown",
   "metadata": {},
   "source": [
    "### Extract timing files"
   ]
  },
  {
   "cell_type": "code",
   "execution_count": 7,
   "metadata": {
    "dotnet_interactive": {
     "language": "csharp"
    },
    "polyglot_notebook": {
     "kernelName": "csharp"
    }
   },
   "outputs": [
    {
     "data": {
      "text/html": [
       "<div><div></div><div></div><div><strong>Installed Packages</strong><ul><li><span>Dapper, 2.1.44</span></li><li><span>Microsoft.DotNet.Interactive.ExtensionLab, 1.0.0-beta.24229.4</span></li><li><span>System.Data.SQLite, 1.0.118</span></li></ul></div></div>"
      ]
     },
     "metadata": {},
     "output_type": "display_data"
    }
   ],
   "source": [
    "#r \"nuget: System.Data.SQLite, *-*\"\n",
    "#r \"nuget: Microsoft.DotNet.Interactive.ExtensionLab, *-*\"\n",
    "#r \"nuget: Dapper, *-*\"\n",
    "\n",
    "using System.IO;\n",
    "using System.Text.Json;\n",
    "using System.Text.Encodings.Web;\n",
    "using System.Text.Unicode;\n",
    "using System.Data.SQLite;\n",
    "using Dapper;\n",
    "\n",
    "var jsonSerializerOptions = new JsonSerializerOptions\n",
    "{\n",
    "    Encoder = JavaScriptEncoder.Create(UnicodeRanges.All),\n",
    "    //WriteIndented = true\n",
    "};"
   ]
  },
  {
   "cell_type": "markdown",
   "metadata": {},
   "source": [
    "#### Recitation Timing (Word by word)"
   ]
  },
  {
   "cell_type": "code",
   "execution_count": 17,
   "metadata": {
    "dotnet_interactive": {
     "language": "csharp"
    },
    "polyglot_notebook": {
     "kernelName": "csharp"
    }
   },
   "outputs": [],
   "source": [
    "var dbPath = @\"D:\\DatabaseBackups\\QuranDB\\recitaion-timings\\\";\n",
    "\n",
    "record WbwRecitationTiming(long sura, long ayah, long time, string words);\n",
    "\n",
    "bool SaveAsJson(string dbFilename){\n",
    "    var dbFileFullName = dbPath + dbFilename + \".db\";\n",
    "    \n",
    "    if (!File.Exists(dbFileFullName)) \n",
    "        return false;\n",
    "\n",
    "    using (var connenction = new SQLiteConnection($\"Data Source={dbFileFullName};Mode=Memory;Cache=Shared\"))\n",
    "    {\n",
    "        var result = connenction.Query<WbwRecitationTiming>(\"SELECT sura, ayah, time, words FROM timings ORDER BY sura, ayah\");\n",
    "\n",
    "        var arrayList = new List<object>();\n",
    "\n",
    "        foreach (var item in result){\n",
    "            var words = item.words.Split(',');\n",
    "            var wordTimes = words.Select(w=>w.Split(':').Select(s=>Convert.ToInt32(s)));\n",
    "            arrayList.Add(new object[]{ item.sura, item.ayah, item.time, wordTimes, \"newLine\" });\n",
    "        }\n",
    "\n",
    "        var resultJson = JsonSerializer.Serialize(arrayList, jsonSerializerOptions)\n",
    "                            .Replace(\",\\\"newLine\\\"],\", \"],\" + Environment.NewLine)\n",
    "                            .Replace(\",\\\"newLine\\\"\",\"\");\n",
    "    \n",
    "        File.WriteAllText(dbPath + \"extractedJson\\\\\" + dbFilename + \".json\", resultJson);\n",
    "    }\n",
    "\n",
    "    return true;\n",
    "}\n",
    "\n",
    "SaveAsJson(\"mishari_alafasy\");"
   ]
  },
  {
   "cell_type": "markdown",
   "metadata": {},
   "source": [
    "#### Recitation Timing (Ayat by Ayat)"
   ]
  },
  {
   "cell_type": "code",
   "execution_count": 20,
   "metadata": {},
   "outputs": [
    {
     "ename": "Error",
     "evalue": "System.InvalidOperationException: A parameterless default constructor or one matching signature (System.Int32 sura, System.Int32 ayah, System.Int32 time) is required for Submission#23+RecitationTiming materialization\r\n   at Dapper.SqlMapper.GenerateDeserializerFromMap(Type type, DbDataReader reader, Int32 startBound, Int32 length, Boolean returnNullIfFirstMissing, ILGenerator il) in /_/Dapper/SqlMapper.cs:line 3484\r\n   at Dapper.SqlMapper.GetTypeDeserializerImpl(Type type, DbDataReader reader, Int32 startBound, Int32 length, Boolean returnNullIfFirstMissing) in /_/Dapper/SqlMapper.cs:line 3315\r\n   at Dapper.SqlMapper.TypeDeserializerCache.GetReader(DbDataReader reader, Int32 startBound, Int32 length, Boolean returnNullIfFirstMissing) in /_/Dapper/SqlMapper.TypeDeserializerCache.cs:line 151\r\n   at Dapper.SqlMapper.TypeDeserializerCache.GetReader(Type type, DbDataReader reader, Int32 startBound, Int32 length, Boolean returnNullIfFirstMissing) in /_/Dapper/SqlMapper.TypeDeserializerCache.cs:line 50\r\n   at Dapper.SqlMapper.GetTypeDeserializer(Type type, DbDataReader reader, Int32 startBound, Int32 length, Boolean returnNullIfFirstMissing) in /_/Dapper/SqlMapper.cs:line 3269\r\n   at Dapper.SqlMapper.GetDeserializer(Type type, DbDataReader reader, Int32 startBound, Int32 length, Boolean returnNullIfFirstMissing) in /_/Dapper/SqlMapper.cs:line 1956\r\n   at Dapper.SqlMapper.QueryImpl[T](IDbConnection cnn, CommandDefinition command, Type effectiveType)+MoveNext() in /_/Dapper/SqlMapper.cs:line 1204\r\n   at System.Collections.Generic.List`1..ctor(IEnumerable`1 collection)\r\n   at System.Linq.Enumerable.ToList[TSource](IEnumerable`1 source)\r\n   at Dapper.SqlMapper.Query[T](IDbConnection cnn, String sql, Object param, IDbTransaction transaction, Boolean buffered, Nullable`1 commandTimeout, Nullable`1 commandType) in /_/Dapper/SqlMapper.cs:line 826\r\n   at Submission#23.SaveAsJson(String dbFilename)\r\n   at Submission#23.<<Initialize>>d__0.MoveNext()\r\n--- End of stack trace from previous location ---\r\n   at Microsoft.CodeAnalysis.Scripting.ScriptExecutionState.RunSubmissionsAsync[TResult](ImmutableArray`1 precedingExecutors, Func`2 currentExecutor, StrongBox`1 exceptionHolderOpt, Func`2 catchExceptionOpt, CancellationToken cancellationToken)",
     "output_type": "error",
     "traceback": [
      "System.InvalidOperationException: A parameterless default constructor or one matching signature (System.Int32 sura, System.Int32 ayah, System.Int32 time) is required for Submission#23+RecitationTiming materialization\r\n",
      "   at Dapper.SqlMapper.GenerateDeserializerFromMap(Type type, DbDataReader reader, Int32 startBound, Int32 length, Boolean returnNullIfFirstMissing, ILGenerator il) in /_/Dapper/SqlMapper.cs:line 3484\r\n",
      "   at Dapper.SqlMapper.GetTypeDeserializerImpl(Type type, DbDataReader reader, Int32 startBound, Int32 length, Boolean returnNullIfFirstMissing) in /_/Dapper/SqlMapper.cs:line 3315\r\n",
      "   at Dapper.SqlMapper.TypeDeserializerCache.GetReader(DbDataReader reader, Int32 startBound, Int32 length, Boolean returnNullIfFirstMissing) in /_/Dapper/SqlMapper.TypeDeserializerCache.cs:line 151\r\n",
      "   at Dapper.SqlMapper.TypeDeserializerCache.GetReader(Type type, DbDataReader reader, Int32 startBound, Int32 length, Boolean returnNullIfFirstMissing) in /_/Dapper/SqlMapper.TypeDeserializerCache.cs:line 50\r\n",
      "   at Dapper.SqlMapper.GetTypeDeserializer(Type type, DbDataReader reader, Int32 startBound, Int32 length, Boolean returnNullIfFirstMissing) in /_/Dapper/SqlMapper.cs:line 3269\r\n",
      "   at Dapper.SqlMapper.GetDeserializer(Type type, DbDataReader reader, Int32 startBound, Int32 length, Boolean returnNullIfFirstMissing) in /_/Dapper/SqlMapper.cs:line 1956\r\n",
      "   at Dapper.SqlMapper.QueryImpl[T](IDbConnection cnn, CommandDefinition command, Type effectiveType)+MoveNext() in /_/Dapper/SqlMapper.cs:line 1204\r\n",
      "   at System.Collections.Generic.List`1..ctor(IEnumerable`1 collection)\r\n",
      "   at System.Linq.Enumerable.ToList[TSource](IEnumerable`1 source)\r\n",
      "   at Dapper.SqlMapper.Query[T](IDbConnection cnn, String sql, Object param, IDbTransaction transaction, Boolean buffered, Nullable`1 commandTimeout, Nullable`1 commandType) in /_/Dapper/SqlMapper.cs:line 826\r\n",
      "   at Submission#23.SaveAsJson(String dbFilename)\r\n",
      "   at Submission#23.<<Initialize>>d__0.MoveNext()\r\n",
      "--- End of stack trace from previous location ---\r\n",
      "   at Microsoft.CodeAnalysis.Scripting.ScriptExecutionState.RunSubmissionsAsync[TResult](ImmutableArray`1 precedingExecutors, Func`2 currentExecutor, StrongBox`1 exceptionHolderOpt, Func`2 catchExceptionOpt, CancellationToken cancellationToken)"
     ]
    }
   ],
   "source": [
    "var dbPath = @\"D:\\DatabaseBackups\\QuranDB\\recitaion-timings\\\";\n",
    "\n",
    "record RecitationTiming(int sura, int ayah, int time);\n",
    "\n",
    "bool SaveAsJson(string dbFilename){\n",
    "    var dbFileFullName = dbPath + dbFilename + \".db\";\n",
    "    \n",
    "    if (!File.Exists(dbFileFullName)) \n",
    "        return false;\n",
    "\n",
    "    using (var connenction = new SQLiteConnection($\"Data Source={dbFileFullName};Mode=Memory;Cache=Shared\"))\n",
    "    {\n",
    "        var result = connenction.Query<RecitationTiming>(\"SELECT sura, ayah, time FROM timings ORDER BY sura, ayah\");\n",
    "\n",
    "        var arrayList = new List<object>();\n",
    "\n",
    "        foreach (var item in result){            \n",
    "            arrayList.Add(new object[]{ item.sura, item.ayah, item.time, \"newLine\" });\n",
    "        }\n",
    "\n",
    "        var resultJson = JsonSerializer.Serialize(arrayList, jsonSerializerOptions)\n",
    "                            .Replace(\",\\\"newLine\\\"],\", \"],\" + Environment.NewLine)\n",
    "                            .Replace(\",\\\"newLine\\\"\",\"\");\n",
    "    \n",
    "        File.WriteAllText(dbPath + \"extractedJson\\\\\" + dbFilename + \".json\", resultJson);\n",
    "    }\n",
    "\n",
    "    return true;\n",
    "}\n",
    "\n",
    "SaveAsJson(\"khalifa_taniji\");"
   ]
  },
  {
   "cell_type": "markdown",
   "metadata": {},
   "source": [
    "### Downlaod from quran.gov.bd"
   ]
  },
  {
   "cell_type": "code",
   "execution_count": null,
   "metadata": {
    "dotnet_interactive": {
     "language": "csharp"
    },
    "polyglot_notebook": {
     "kernelName": "csharp"
    }
   },
   "outputs": [],
   "source": [
    "using System.IO;\n",
    "using System.Text.Json;\n",
    "using System.Net;\n",
    "\n",
    "var srcPath = @\"D:\\Faruque\\Projects\\quranpwa\\src\\assets\\\";\n",
    "var quranDataJson = File.ReadAllText(srcPath + \"quran-data.json\");\n",
    "\n",
    "public class QuranData\n",
    "{\n",
    "    public List<List<object>> suras { get; set; }\n",
    "    public List<List<int>> hizb_quarters { get; set; }\n",
    "    public List<List<int>> manzils { get; set; }\n",
    "    public List<List<int>> rukus { get; set; }\n",
    "    public List<List<int>> pages { get; set; }\n",
    "    public List<List<object>> sajdas { get; set; }\n",
    "    public List<List<int>> juzs { get; set; }\n",
    "}\n",
    "\n",
    "var quranData = JsonSerializer.Deserialize<QuranData>(quranDataJson);\n",
    "\n",
    "record DownloadableFile(string url, string filename);\n",
    "\n",
    "var downlaodableFiles = new List<DownloadableFile>();\n",
    "\n",
    "for(int i = 0; i < quranData.suras.Count; i++){\n",
    "    var sura = quranData.suras[i];\n",
    "    var serial = i + 1;\n",
    "    //var start = (int)sura[0];\n",
    "    var ayas = int.Parse(sura[1].ToString());\n",
    "\n",
    "    for(int j = 1; j <= ayas; j++){\n",
    "        downlaodableFiles.Add( new($\"{serial}/{serial}-{j}.mp3\", $\"{serial.ToString().PadLeft(3, '0')}{j.ToString().PadLeft(3, '0')}.mp3\"));\n",
    "    }\n",
    "}\n",
    "\n",
    "var urlBase = \"http://quran.gov.bd/quran/Sound/bangla\";\n",
    "var downloadPath = @\"D:\\Faruque\\Projects\\QuranAudio\\Mahbub_Subhan_quran.gov.bd\";\n",
    "\n",
    "foreach (var downlaodableFile in downlaodableFiles){\n",
    "    string url = $\"{urlBase}/{downlaodableFile.url}\";\n",
    "    string filePath = $\"{downloadPath}\\\\{downlaodableFile.filename}\";\n",
    "\n",
    "    if (File.Exists(filePath))\n",
    "        continue;\n",
    "\n",
    "    using (var client = new WebClient())\n",
    "    {\n",
    "        client.DownloadFile(url, filePath);\n",
    "    }\n",
    "    Console.WriteLine($\"Downloaded file: {downlaodableFile}\");\n",
    "}\n",
    "\n",
    "Console.WriteLine($\"Download completed\");\n"
   ]
  }
 ],
 "metadata": {
  "kernelspec": {
   "display_name": ".NET (C#)",
   "language": "C#",
   "name": ".net-csharp"
  },
  "language_info": {
   "name": "polyglot-notebook"
  },
  "polyglot_notebook": {
   "kernelInfo": {
    "defaultKernelName": "csharp",
    "items": [
     {
      "aliases": [],
      "languageName": "csharp",
      "name": "csharp"
     }
    ]
   }
  }
 },
 "nbformat": 4,
 "nbformat_minor": 2
}
